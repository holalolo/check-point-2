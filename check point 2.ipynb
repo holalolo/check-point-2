{
 "cells": [
  {
   "cell_type": "code",
   "execution_count": 1,
   "id": "30f94a2c",
   "metadata": {},
   "outputs": [
    {
     "name": "stdout",
     "output_type": "stream",
     "text": [
      "tapez votre prénomelaa\n",
      "tapez votre nombaccouchi\n",
      "baccouchi elaa\n"
     ]
    }
   ],
   "source": [
    "#exercice 1\n",
    "a=input(\"tapez votre prénom\")\n",
    "b=input(\"tapez votre nom\")\n",
    "c=b+\" \"+a\n",
    "print(c)\n"
   ]
  },
  {
   "cell_type": "code",
   "execution_count": 2,
   "id": "f491987f",
   "metadata": {},
   "outputs": [
    {
     "name": "stdout",
     "output_type": "stream",
     "text": [
      "saisir un entier5\n",
      "615\n"
     ]
    }
   ],
   "source": [
    "#exercice 2\n",
    "n=input(\"saisir un entier\")\n",
    "p=int(n)+int(n+n)+int(n+n+n)\n",
    "print(p)\n"
   ]
  },
  {
   "cell_type": "code",
   "execution_count": 4,
   "id": "cbe39bca",
   "metadata": {},
   "outputs": [
    {
     "name": "stdout",
     "output_type": "stream",
     "text": [
      "saisir un entier2\n",
      "le nombre est pair\n"
     ]
    }
   ],
   "source": [
    "#exercice 3\n",
    "a=int(input(\"saisir un entier\"))\n",
    "if a%2==0 :\n",
    "    print(\"le nombre est pair\")\n",
    "else:\n",
    "    print(\"le nombre est impair\")\n"
   ]
  },
  {
   "cell_type": "code",
   "execution_count": 5,
   "id": "e0ab8d5a",
   "metadata": {},
   "outputs": [
    {
     "name": "stdout",
     "output_type": "stream",
     "text": [
      "2002,2009,2016,2023,2037,2044,2051,2058,2072,2079,2086,2093,2107,2114,2121,2128,2142,2149,2156,2163,2177,2184,2191,2198,2212,2219,2226,2233,2247,2254,2261,2268,2282,2289,2296,2303,2317,2324,2331,2338,2352,2359,2366,2373,2387,2394,2401,2408,2422,2429,2436,2443,2457,2464,2471,2478,2492,2499,2506,2513,2527,2534,2541,2548,2562,2569,2576,2583,2597,2604,2611,2618,2632,2639,2646,2653,2667,2674,2681,2688,2702,2709,2716,2723,2737,2744,2751,2758,2772,2779,2786,2793,2807,2814,2821,2828,2842,2849,2856,2863,2877,2884,2891,2898,2912,2919,2926,2933,2947,2954,2961,2968,2982,2989,2996,3003,3017,3024,3031,3038,3052,3059,3066,3073,3087,3094,3101,3108,3122,3129,3136,3143,3157,3164,3171,3178,3192,3199\n"
     ]
    }
   ],
   "source": [
    "#exercice 4\n",
    "nl=[]\n",
    "x=range(2000,3201)\n",
    "for i in x:\n",
    "    if i%7==0 and i%5!=0:\n",
    "        nl.append(str(i))\n",
    "print(\",\".join(nl))\n"
   ]
  },
  {
   "cell_type": "code",
   "execution_count": 8,
   "id": "695e318f",
   "metadata": {},
   "outputs": [
    {
     "name": "stdout",
     "output_type": "stream",
     "text": [
      "saisir un entier n3\n",
      "6\n"
     ]
    }
   ],
   "source": [
    "#exercice 5\n",
    "n=int(input(\"saisir un entier n\"))\n",
    "if n<0:\n",
    "    print(\"saisir un entier positif\")\n",
    "elif n==0:\n",
    "    print(1)\n",
    "else:\n",
    "    f=1\n",
    "    for i in range(2,n+1):\n",
    "        f=f*i\n",
    "    print(f)\n"
   ]
  },
  {
   "cell_type": "code",
   "execution_count": 9,
   "id": "81cf00df",
   "metadata": {},
   "outputs": [
    {
     "name": "stdout",
     "output_type": "stream",
     "text": [
      "tapez votre mothello team\n",
      "hlota\n"
     ]
    }
   ],
   "source": [
    "#exercice 6\n",
    "ch=input(\"tapez votre mot\")\n",
    "ch=ch[::2]\n",
    "print(ch)\n"
   ]
  },
  {
   "cell_type": "code",
   "execution_count": 12,
   "id": "4f5b7946",
   "metadata": {},
   "outputs": [
    {
     "name": "stdout",
     "output_type": "stream",
     "text": [
      "saisir le prix100\n",
      "10\n"
     ]
    }
   ],
   "source": [
    "#exercice 7\n",
    "n=int(input(\"saisir le prix\"))\n",
    "if  n>=500 :\n",
    "    print(n//2)\n",
    "elif 200<=n<500:\n",
    "    print(n*3//10)\n",
    "else:\n",
    "    print(n//10)\n"
   ]
  }
 ],
 "metadata": {
  "kernelspec": {
   "display_name": "Python 3",
   "language": "python",
   "name": "python3"
  },
  "language_info": {
   "codemirror_mode": {
    "name": "ipython",
    "version": 3
   },
   "file_extension": ".py",
   "mimetype": "text/x-python",
   "name": "python",
   "nbconvert_exporter": "python",
   "pygments_lexer": "ipython3",
   "version": "3.8.8"
  }
 },
 "nbformat": 4,
 "nbformat_minor": 5
}
